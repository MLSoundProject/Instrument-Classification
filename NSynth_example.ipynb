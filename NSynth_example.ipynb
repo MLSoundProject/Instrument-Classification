{
 "cells": [
  {
   "cell_type": "markdown",
   "metadata": {},
   "source": [
    "# NSynth Example\n",
    "This program takes the NSynth dataset and prints an example set of data. The dataset can be downloaded from https://magenta.tensorflow.org/datasets/nsynth in two different formats: JSON and TFRecord. JSON is based on JavaScript and sorts the data into objects with names and values. TFRecord is based on tensorflow and is structured similarly. The data is sorted into a list and an example protocol buffer is used to determine where the data is located. The example protocol buffer for the NSynth dataset is shown below:"
   ]
  },
  {
   "cell_type": "raw",
   "metadata": {},
   "source": [
    "{     # (tensorflow.Example) size=250.4K\n",
    "  features: {   # (tensorflow.Features) size=250.4K\n",
    "    feature: {  # (tensorflow.Features.FeatureEntry) size=21B\n",
    "      key  : \"sample_rate\"      # size=11\n",
    "      value: {  # (tensorflow.Feature) size=6B\n",
    "        int64_list: {   # (tensorflow.Int64List) size=4B\n",
    "          value: [ 16000 ]\n",
    "        }       # features.feature[0].value.int64_list\n",
    "      } # features.feature[0].value\n",
    "    }   # features.feature[0]\n",
    "    feature: {  # (tensorflow.Features.FeatureEntry) size=25B\n",
    "      key  : \"qualities_str\"    # size=13\n",
    "      value: {  # (tensorflow.Feature) size=8B\n",
    "        bytes_list: {   # (tensorflow.BytesList) size=6B\n",
    "          value: [ \"dark\" ]\n",
    "        }       # features.feature[1].value.bytes_list\n",
    "      } # features.feature[1].value\n",
    "    }   # features.feature[1]\n",
    "    feature: {  # (tensorflow.Features.FeatureEntry) size=42B\n",
    "      key  : \"note_str\" # size=8\n",
    "      value: {  # (tensorflow.Feature) size=30B\n",
    "        bytes_list: {   # (tensorflow.BytesList) size=28B\n",
    "          value: [ \"bass_synthetic_033-022-050\" ]       # size=26\n",
    "        }       # features.feature[2].value.bytes_list\n",
    "      } # features.feature[2].value\n",
    "    }   # features.feature[2]\n",
    "    feature: {  # (tensorflow.Features.FeatureEntry) size=27B\n",
    "      key  : \"qualities\"        # size=9\n",
    "      value: {  # (tensorflow.Feature) size=14B\n",
    "        int64_list: {   # (tensorflow.Int64List) size=12B\n",
    "          value: [ 0, 1, 0, 0, 0, 0, 0, 0, 0, 0 ]\n",
    "        }       # features.feature[3].value.int64_list\n",
    "      } # features.feature[3].value\n",
    "    }   # features.feature[3]\n",
    "    feature: {  # (tensorflow.Features.FeatureEntry) size=250.0K\n",
    "      key  : \"audio\"    # size=5\n",
    "      value: {  # (tensorflow.Feature) size=250.0K\n",
    "        float_list: {   # (tensorflow.FloatList) size=250.0K\n",
    "          value: [ -1.3311218e-07, ...,  1.3244664e-07 ]\n",
    "        }       # features.feature[4].value.float_list\n",
    "      } # features.feature[4].value\n",
    "    }   # features.feature[4]\n",
    "    feature: {  # (tensorflow.Features.FeatureEntry) size=26B\n",
    "      key  : \"instrument_family\"        # size=17\n",
    "      value: {  # (tensorflow.Feature) size=5B\n",
    "        int64_list: {   # (tensorflow.Int64List) size=3B\n",
    "          value: [ 0 ]\n",
    "        }       # features.feature[5].value.int64_list\n",
    "      } # features.feature[5].value\n",
    "    }   # features.feature[5]\n",
    "    feature: {  # (tensorflow.Features.FeatureEntry) size=14B\n",
    "      key  : \"pitch\"    # size=5\n",
    "      value: {  # (tensorflow.Feature) size=5B\n",
    "        int64_list: {   # (tensorflow.Int64List) size=3B\n",
    "          value: [ 22 ]\n",
    "        }       # features.feature[6].value.int64_list\n",
    "      } # features.feature[6].value\n",
    "    }   # features.feature[6]\n",
    "    feature: {  # (tensorflow.Features.FeatureEntry) size=26B\n",
    "      key  : \"instrument_source\"        # size=17\n",
    "      value: {  # (tensorflow.Feature) size=5B\n",
    "        int64_list: {   # (tensorflow.Int64List) size=3B\n",
    "          value: [ 2 ]\n",
    "        }       # features.feature[7].value.int64_list\n",
    "      } # features.feature[7].value\n",
    "    }   # features.feature[7]\n",
    "    feature: {  # (tensorflow.Features.FeatureEntry) size=40B\n",
    "      key  : \"instrument_str\"   # size=14\n",
    "      value: {  # (tensorflow.Feature) size=22B\n",
    "        bytes_list: {   # (tensorflow.BytesList) size=20B\n",
    "          value: [ \"bass_synthetic_033\" ]       # size=18\n",
    "        }       # features.feature[8].value.bytes_list\n",
    "      } # features.feature[8].value\n",
    "    }   # features.feature[8]\n",
    "    feature: {  # (tensorflow.Features.FeatureEntry) size=38B\n",
    "      key  : \"instrument_source_str\"    # size=21\n",
    "      value: {  # (tensorflow.Feature) size=13B\n",
    "        bytes_list: {   # (tensorflow.BytesList) size=11B\n",
    "          value: [ \"synthetic\" ]        # size=9\n",
    "        }       # features.feature[9].value.bytes_list\n",
    "      } # features.feature[9].value\n",
    "    }   # features.feature[9]\n",
    "    feature: {  # (tensorflow.Features.FeatureEntry) size=15B\n",
    "      key  : \"note\"\n",
    "      value: {  # (tensorflow.Feature) size=7B\n",
    "        int64_list: {   # (tensorflow.Int64List) size=5B\n",
    "          value: [ 201034 ]     # 196.32Ki; [if seconds]: 2 days 7 hours\n",
    "        }       # features.feature[10].value.int64_list\n",
    "      } # features.feature[10].value\n",
    "    }   # features.feature[10]\n",
    "    feature: {  # (tensorflow.Features.FeatureEntry) size=20B\n",
    "      key  : \"instrument\"       # size=10\n",
    "      value: {  # (tensorflow.Feature) size=6B\n",
    "        int64_list: {   # (tensorflow.Int64List) size=4B\n",
    "          value: [ 417 ]\n",
    "        }       # features.feature[11].value.int64_list\n",
    "      } # features.feature[11].value\n",
    "    }   # features.feature[11]\n",
    "    feature: {  # (tensorflow.Features.FeatureEntry) size=33B\n",
    "      key  : \"instrument_family_str\"    # size=21\n",
    "      value: {  # (tensorflow.Feature) size=8B\n",
    "        bytes_list: {   # (tensorflow.BytesList) size=6B\n",
    "          value: [ \"bass\" ]\n",
    "        }       # features.feature[12].value.bytes_list\n",
    "      } # features.feature[12].value\n",
    "    }   # features.feature[12]\n",
    "    feature: {  # (tensorflow.Features.FeatureEntry) size=17B\n",
    "      key  : \"velocity\" # size=8\n",
    "      value: {  # (tensorflow.Feature) size=5B\n",
    "        int64_list: {   # (tensorflow.Int64List) size=3B\n",
    "          value: [ 50 ]\n",
    "        }       # features.feature[13].value.int64_list\n",
    "      } # features.feature[13].value\n",
    "    }   # features.feature[13]\n",
    "  }     # features\n",
    "}"
   ]
  },
  {
   "cell_type": "markdown",
   "metadata": {},
   "source": [
    "# Load Packages"
   ]
  },
  {
   "cell_type": "code",
   "execution_count": 2,
   "metadata": {
    "collapsed": true
   },
   "outputs": [],
   "source": [
    "%matplotlib inline\n",
    "\n",
    "import matplotlib.pyplot as plt\n",
    "import tensorflow as tf\n",
    "import numpy as np\n",
    "from IPython.display import Audio\n",
    "\n",
    "tfrecords_filename = 'nsynth-test.tfrecord'"
   ]
  },
  {
   "cell_type": "markdown",
   "metadata": {},
   "source": [
    "# Define Parsing Function\n",
    "The function takes the file name and outputs the defined NSynth data and audio for one example based on the structure of the protocol buffer."
   ]
  },
  {
   "cell_type": "code",
   "execution_count": 3,
   "metadata": {
    "collapsed": true
   },
   "outputs": [],
   "source": [
    "def nsynth_generator(tfrecords_filename):\n",
    "    for serialized_example in tf.python_io.tf_record_iterator(tfrecords_filename):\n",
    "        example = tf.train.Example()\n",
    "        example.ParseFromString(serialized_example)\n",
    "        f = example.features.feature\n",
    "\n",
    "        audio = np.array(f['audio'].float_list.value)\n",
    "\n",
    "        data = {\n",
    "            'note':\n",
    "                f['note'].int64_list.value[0],\n",
    "            'note_str':\n",
    "                f['note_str'].bytes_list.value[0],\n",
    "            'instrument':\n",
    "                f['instrument'].int64_list.value[0],\n",
    "            'instrument_str':\n",
    "                f['instrument_str'].bytes_list.value[0],\n",
    "            'pitch':\n",
    "                f['pitch'].int64_list.value[0],\n",
    "            'velocity':\n",
    "                f['pitch'].int64_list.value[0],\n",
    "            'samplerate':\n",
    "                f['sample_rate'].int64_list.value[0],\n",
    "            'qualities':\n",
    "                map(int, f['qualities'].int64_list.value),\n",
    "            'qualities_str':\n",
    "                map(str, f['qualities_str'].int64_list.value),\n",
    "            'instrument_family':\n",
    "                f['instrument_family'].int64_list.value[0],\n",
    "            'instrument_family_str':\n",
    "                f['instrument_family_str'].bytes_list.value[0],\n",
    "            'instrument_source':\n",
    "                f['instrument_family'].int64_list.value[0],\n",
    "            'instrument_source_str':\n",
    "                f['instrument_source_str'].bytes_list.value[0],\n",
    "        }\n",
    "\n",
    "        yield data, audio"
   ]
  },
  {
   "cell_type": "markdown",
   "metadata": {},
   "source": [
    "# Get data\n",
    "Next, get the data using the function. Print the sample data..."
   ]
  },
  {
   "cell_type": "code",
   "execution_count": 8,
   "metadata": {},
   "outputs": [
    {
     "name": "stdout",
     "output_type": "stream",
     "text": [
      "{'note': 149013, 'note_str': b'bass_synthetic_033-100-100', 'instrument': 417, 'instrument_str': b'bass_synthetic_033', 'pitch': 100, 'velocity': 100, 'samplerate': 16000, 'qualities': <map object at 0x0000014049EDE898>, 'qualities_str': <map object at 0x000001404A062160>, 'instrument_family': 0, 'instrument_family_str': b'bass', 'instrument_source': 0, 'instrument_source_str': b'synthetic'}\n"
     ]
    }
   ],
   "source": [
    "gen_samples = nsynth_generator(tfrecords_filename)\n",
    "metadata, audio = gen_samples.__next__()\n",
    "print(metadata)"
   ]
  },
  {
   "cell_type": "markdown",
   "metadata": {},
   "source": [
    "... and plot the sample audio signal."
   ]
  },
  {
   "cell_type": "code",
   "execution_count": 11,
   "metadata": {},
   "outputs": [
    {
     "data": {
      "text/plain": [
       "[<matplotlib.lines.Line2D at 0x1404a208f28>]"
      ]
     },
     "execution_count": 11,
     "metadata": {},
     "output_type": "execute_result"
    },
    {
     "data": {
      "image/png": "[encoded data removed]",
      "text/plain": [
       "<matplotlib.figure.Figure at 0x14049ede080>"
      ]
     },
     "metadata": {},
     "output_type": "display_data"
    }
   ],
   "source": [
    "Audio(audio, rate=metadata['samplerate'])\n",
    "plt.plot(audio)"
   ]
  },
  {
   "cell_type": "markdown",
   "metadata": {
    "collapsed": true
   },
   "source": [
    "The NSynth training dataset contains 289,205 examples, the validation dataset contains 12,678 examples, and the test dataset contains 4,096 examples. Each example contains these 13 data values and an audio signal consisting of over 60,000 samples."
   ]
  },
  {
   "cell_type": "code",
   "execution_count": null,
   "metadata": {
    "collapsed": true
   },
   "outputs": [],
   "source": []
  }
 ],
 "metadata": {
  "kernelspec": {
   "display_name": "Python 3",
   "language": "python",
   "name": "python3"
  },
  "language_info": {
   "codemirror_mode": {
    "name": "ipython",
    "version": 3
   },
   "file_extension": ".py",
   "mimetype": "text/x-python",
   "name": "python",
   "nbconvert_exporter": "python",
   "pygments_lexer": "ipython3",
   "version": "3.6.3"
  }
 },
 "nbformat": 4,
 "nbformat_minor": 2
}
